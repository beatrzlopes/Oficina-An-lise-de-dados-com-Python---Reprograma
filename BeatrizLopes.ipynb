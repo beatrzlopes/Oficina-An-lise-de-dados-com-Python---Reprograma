{
  "nbformat": 4,
  "nbformat_minor": 0,
  "metadata": {
    "colab": {
      "provenance": [],
      "authorship_tag": "ABX9TyOA2okmlMdX5+1xNqyXVxKm",
      "include_colab_link": true
    },
    "kernelspec": {
      "name": "python3",
      "display_name": "Python 3"
    },
    "language_info": {
      "name": "python"
    }
  },
  "cells": [
    {
      "cell_type": "markdown",
      "metadata": {
        "id": "view-in-github",
        "colab_type": "text"
      },
      "source": [
        "<a href=\"https://colab.research.google.com/github/beatrzlopes/Oficina-An-lise-de-dados-com-Python---Reprograma/blob/main/BeatrizLopes.ipynb\" target=\"_parent\"><img src=\"https://colab.research.google.com/assets/colab-badge.svg\" alt=\"Open In Colab\"/></a>"
      ]
    },
    {
      "cell_type": "code",
      "execution_count": 3,
      "metadata": {
        "colab": {
          "base_uri": "https://localhost:8080/"
        },
        "id": "GFU54YA_BLfs",
        "outputId": "8c1aabef-2a38-4a95-d1d8-c0832dbea644"
      },
      "outputs": [
        {
          "output_type": "stream",
          "name": "stdout",
          "text": [
            "Total do dia é: 20991.34\n",
            "20991.34\n"
          ]
        }
      ],
      "source": [
        "# Desafio 1\n",
        "almoco = 13360.20\n",
        "janta = 7631.14\n",
        "receita_total = almoco + janta\n",
        "print(\"Total do dia é:\", (almoço + janta))\n",
        "print(receita_total)"
      ]
    },
    {
      "cell_type": "code",
      "source": [
        "# Desafio 2\n",
        "receita_total = 20991.34\n",
        "meta_receita = 8000\n",
        "if receita_total > meta_receita:\n",
        "  print(\"Meta de receita alcançada\")\n",
        "else:\n",
        "  print(\"Meta de receita não alcançada\")\n",
        "print(\"Fim do programa\")"
      ],
      "metadata": {
        "colab": {
          "base_uri": "https://localhost:8080/"
        },
        "id": "Q7TJp9ttDbhD",
        "outputId": "ea7c3707-5211-4702-84d1-9fc3af26c6bc"
      },
      "execution_count": 4,
      "outputs": [
        {
          "output_type": "stream",
          "name": "stdout",
          "text": [
            "Meta de receita alcançada\n",
            "Fim do programa\n"
          ]
        }
      ]
    },
    {
      "cell_type": "code",
      "source": [
        "# Desafio 3\n",
        "# tempo prometido para entrega de bebidas: 30 minutos\n",
        "# tempo real de entrega das bebidas: 35 minutos\n",
        "# tempo prometido para entrega de sobremesas: 45 minutos\n",
        "# tempo real de entrega das sobremesas: 40 minutos\n",
        "\n",
        "# Parte 1\n",
        "tempo_prometido_entrega_bebidas = 30\n",
        "tempo_real_entrega_bebidas = 35\n",
        "tempo_prometido_entrega_sobremesas = 45\n",
        "tempo_real_entrega_sobremesas = 40\n",
        "# Parte 2\n",
        "entrega_no_prazo_bebidas = tempo_real_entrega_bebidas == tempo_prometido_entrega_bebidas\n",
        "print(entrega_no_prazo_bebidas)\n",
        "\n",
        "entrega_no_prazo_sobremesas = tempo_real_entrega_sobremesas == tempo_prometido_entrega_sobremesas\n",
        "print(entrega_no_prazo_sobremesas)\n",
        "\n",
        "# Parte 3\n",
        "if entrega_no_prazo_bebidas == False:\n",
        "  print(\"Entrega de bebidas nâo está dentro do prazo prometido\")\n",
        "else:\n",
        "  print(\"Entrega de bebidas está dentro do prazo prometido\")\n",
        "\n",
        "if entrega_no_prazo_sobremesas == True or entrega_no_prazo_sobremesas < tempo_real_entrega_sobremesas:\n",
        "  print(\"Entrega de bebidas está dentro do prazo prometido\")\n",
        "else:\n",
        "  print(\"Entrega de bebidas nâo está dentro do prazo prometido\")\n",
        "\n",
        "\n"
      ],
      "metadata": {
        "colab": {
          "base_uri": "https://localhost:8080/"
        },
        "id": "EbfmLDjCD83a",
        "outputId": "2b468fc7-e20d-4be2-b16d-70e563c0e211"
      },
      "execution_count": 16,
      "outputs": [
        {
          "output_type": "stream",
          "name": "stdout",
          "text": [
            "False\n",
            "False\n",
            "Entrega de bebidas nâo está dentro do prazo prometido\n",
            "Entrega de bebidas está dentro do prazo prometido\n"
          ]
        }
      ]
    },
    {
      "cell_type": "code",
      "source": [],
      "metadata": {
        "id": "WBur0HAqIJKd"
      },
      "execution_count": null,
      "outputs": []
    }
  ]
}